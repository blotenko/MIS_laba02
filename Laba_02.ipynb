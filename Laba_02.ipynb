{
 "cells": [
  {
   "cell_type": "markdown",
   "id": "767c8352",
   "metadata": {},
   "source": [
    "Варіант 1\n",
    "1, 6, 7, 9,\n",
    "10, 11, 15,\n",
    "17, 18"
   ]
  },
  {
   "cell_type": "code",
   "execution_count": 22,
   "id": "755bf3c5",
   "metadata": {},
   "outputs": [],
   "source": [
    "import numpy as np\n",
    "import random\n",
    "# Task 1\n",
    "\n",
    "# 1\n",
    "def task_1(n):\n",
    "    a = np.array([x+1 for x in range(n)])\n",
    "    return np.diag(a)\n",
    "\n",
    "def task_1_py(n):\n",
    "    a = [\n",
    "        [i + 1 if i == j else 0 for i in range(n)]\n",
    "        for j in range(n)\n",
    "    ]\n",
    "    return a"
   ]
  },
  {
   "cell_type": "code",
   "execution_count": 2,
   "id": "12ebebb1",
   "metadata": {},
   "outputs": [
    {
     "name": "stdout",
     "output_type": "stream",
     "text": [
      "21.2 µs ± 6.77 µs per loop (mean ± std. dev. of 7 runs, 100 loops each)\n"
     ]
    }
   ],
   "source": [
    "%timeit -n 100 task_1(100)"
   ]
  },
  {
   "cell_type": "code",
   "execution_count": 3,
   "id": "cd1ba209",
   "metadata": {},
   "outputs": [
    {
     "name": "stdout",
     "output_type": "stream",
     "text": [
      "501 µs ± 27.2 µs per loop (mean ± std. dev. of 7 runs, 100 loops each)\n"
     ]
    }
   ],
   "source": [
    "\n",
    "%timeit -n 100 task_1_py(100)"
   ]
  },
  {
   "cell_type": "code",
   "execution_count": 10,
   "id": "cb4c95e0",
   "metadata": {},
   "outputs": [],
   "source": [
    "def task_6(a):\n",
    "    r = np.array(a)\n",
    "    r[r > 0] = -1\n",
    "    return r\n",
    "\n",
    "def task_6_py(a):\n",
    "    r = [-1 if i > 0 else 0 for i in a]\n",
    "    return r"
   ]
  },
  {
   "cell_type": "code",
   "execution_count": 11,
   "id": "573f7f62",
   "metadata": {},
   "outputs": [],
   "source": [
    "arr = [3, 4, 0, 9, 7, 0, 6, 0, 4, 0, 3]"
   ]
  },
  {
   "cell_type": "code",
   "execution_count": 12,
   "id": "b5fbe867",
   "metadata": {},
   "outputs": [
    {
     "name": "stdout",
     "output_type": "stream",
     "text": [
      "3.82 µs ± 157 ns per loop (mean ± std. dev. of 7 runs, 100 loops each)\n"
     ]
    }
   ],
   "source": [
    "%timeit -n 100 task_6(arr)"
   ]
  },
  {
   "cell_type": "code",
   "execution_count": 13,
   "id": "d6b61420",
   "metadata": {},
   "outputs": [
    {
     "name": "stdout",
     "output_type": "stream",
     "text": [
      "902 ns ± 57.4 ns per loop (mean ± std. dev. of 7 runs, 100 loops each)\n"
     ]
    }
   ],
   "source": [
    "%timeit -n 100 task_6_py(arr)"
   ]
  },
  {
   "cell_type": "code",
   "execution_count": 14,
   "id": "f693b6ce",
   "metadata": {},
   "outputs": [],
   "source": [
    "def task_7(a):\n",
    "    r = np.array(a)\n",
    "    r[r == 0] = -1\n",
    "    return r\n",
    "\n",
    "def task_7_py(a):\n",
    "    r = [-1 if i == 0 else 0 for i in a]\n",
    "    return r\n"
   ]
  },
  {
   "cell_type": "code",
   "execution_count": 15,
   "id": "3170cb85",
   "metadata": {},
   "outputs": [],
   "source": [
    "arr = [3, 4, 0, 9, 7, 0, 6, 0, 4, 0, 3]\n"
   ]
  },
  {
   "cell_type": "code",
   "execution_count": 16,
   "id": "c850456b",
   "metadata": {},
   "outputs": [
    {
     "name": "stdout",
     "output_type": "stream",
     "text": [
      "3.26 µs ± 354 ns per loop (mean ± std. dev. of 7 runs, 100 loops each)\n"
     ]
    }
   ],
   "source": [
    "%timeit -n 100 task_6(arr)"
   ]
  },
  {
   "cell_type": "code",
   "execution_count": 17,
   "id": "2b62b5a5",
   "metadata": {},
   "outputs": [
    {
     "name": "stdout",
     "output_type": "stream",
     "text": [
      "646 ns ± 15.9 ns per loop (mean ± std. dev. of 7 runs, 100 loops each)\n"
     ]
    }
   ],
   "source": [
    "%timeit -n 100 task_6_py(arr)"
   ]
  },
  {
   "cell_type": "code",
   "execution_count": 19,
   "id": "9a0248dd",
   "metadata": {},
   "outputs": [],
   "source": [
    "def task_9(n):\n",
    "    start_time = time.time()\n",
    "    arr = np.arange(n, -1, -1)\n",
    "    end_time = time.time()\n",
    "    execution_time = end_time - start_time\n",
    "    return arr, execution_time"
   ]
  },
  {
   "cell_type": "code",
   "execution_count": 23,
   "id": "bcd1689d",
   "metadata": {},
   "outputs": [],
   "source": [
    "import time"
   ]
  },
  {
   "cell_type": "code",
   "execution_count": 24,
   "id": "bff536c9",
   "metadata": {},
   "outputs": [
    {
     "name": "stdout",
     "output_type": "stream",
     "text": [
      "Масив (NumPy): [10  9  8  7  6  5  4  3  2  1  0]\n",
      "Час виконання (NumPy): 3.910064697265625e-05\n"
     ]
    }
   ],
   "source": [
    "arr_numpy, time_numpy = task_9(10)\n",
    "print(\"Масив (NumPy):\", arr_numpy)\n",
    "print(\"Час виконання (NumPy):\", time_numpy)"
   ]
  },
  {
   "cell_type": "code",
   "execution_count": 26,
   "id": "c6050415",
   "metadata": {},
   "outputs": [
    {
     "name": "stdout",
     "output_type": "stream",
     "text": [
      "Введіть число n: 10\n",
      "Масив (ітеративно): [10, 9, 8, 7, 6, 5, 4, 3, 2, 1, 0]\n",
      "Час виконання (ітеративно): 5.0067901611328125e-06\n"
     ]
    }
   ],
   "source": [
    "def task_9_2(n):\n",
    "    start_time = time.time()\n",
    "    arr = [i for i in range(n, -1, -1)]\n",
    "    end_time = time.time()\n",
    "    execution_time = end_time - start_time\n",
    "    return arr, execution_time\n",
    "\n",
    "n = int(input(\"Введіть число n: \"))\n",
    "arr_iterative, time_iterative = task_9_2(n)\n",
    "print(\"Масив (ітеративно):\", arr_iterative)\n",
    "print(\"Час виконання (ітеративно):\", time_iterative)"
   ]
  },
  {
   "cell_type": "code",
   "execution_count": 27,
   "id": "acd6a33c",
   "metadata": {},
   "outputs": [
    {
     "name": "stdout",
     "output_type": "stream",
     "text": [
      "Введіть число n: 10\n",
      "Масив з рамкою (NumPy):\n",
      "[[1 1 1 1 1 1 1 1 1 1]\n",
      " [1 0 0 0 0 0 0 0 0 1]\n",
      " [1 0 0 0 0 0 0 0 0 1]\n",
      " [1 0 0 0 0 0 0 0 0 1]\n",
      " [1 0 0 0 0 0 0 0 0 1]\n",
      " [1 0 0 0 0 0 0 0 0 1]\n",
      " [1 0 0 0 0 0 0 0 0 1]\n",
      " [1 0 0 0 0 0 0 0 0 1]\n",
      " [1 0 0 0 0 0 0 0 0 1]\n",
      " [1 1 1 1 1 1 1 1 1 1]]\n",
      "Час виконання (NumPy): 5.1021575927734375e-05\n"
     ]
    }
   ],
   "source": [
    "def numpy_approach_task11(n):\n",
    "    start_time = time.time()\n",
    "    arr = np.ones((n, n), dtype=int)\n",
    "    arr[1:-1, 1:-1] = 0\n",
    "    end_time = time.time()\n",
    "    execution_time = end_time - start_time\n",
    "    return arr, execution_time\n",
    "\n",
    "n = int(input(\"Введіть число n: \"))\n",
    "arr_numpy, time_numpy = numpy_approach_task11(n)\n",
    "print(\"Масив з рамкою (NumPy):\")\n",
    "print(arr_numpy)\n",
    "print(\"Час виконання (NumPy):\", time_numpy)"
   ]
  },
  {
   "cell_type": "code",
   "execution_count": 28,
   "id": "461ed4b3",
   "metadata": {},
   "outputs": [
    {
     "name": "stdout",
     "output_type": "stream",
     "text": [
      "Введіть число n: 10\n",
      "Масив з рамкою (ітеративно):\n",
      "[1, 1, 1, 1, 1, 1, 1, 1, 1, 1]\n",
      "[1, 0, 0, 0, 0, 0, 0, 0, 0, 1]\n",
      "[1, 0, 0, 0, 0, 0, 0, 0, 0, 1]\n",
      "[1, 0, 0, 0, 0, 0, 0, 0, 0, 1]\n",
      "[1, 0, 0, 0, 0, 0, 0, 0, 0, 1]\n",
      "[1, 0, 0, 0, 0, 0, 0, 0, 0, 1]\n",
      "[1, 0, 0, 0, 0, 0, 0, 0, 0, 1]\n",
      "[1, 0, 0, 0, 0, 0, 0, 0, 0, 1]\n",
      "[1, 0, 0, 0, 0, 0, 0, 0, 0, 1]\n",
      "[1, 1, 1, 1, 1, 1, 1, 1, 1, 1]\n",
      "Час виконання (ітеративно): 2.2172927856445312e-05\n"
     ]
    }
   ],
   "source": [
    "import time\n",
    "\n",
    "def iterative_approach_task11(n):\n",
    "    start_time = time.time()\n",
    "    arr = [[1]*n for _ in range(n)]\n",
    "    for i in range(1, n-1):\n",
    "        for j in range(1, n-1):\n",
    "            arr[i][j] = 0\n",
    "    end_time = time.time()\n",
    "    execution_time = end_time - start_time\n",
    "    return arr, execution_time\n",
    "\n",
    "n = int(input(\"Введіть число n: \"))\n",
    "arr_iterative, time_iterative = iterative_approach_task11(n)\n",
    "print(\"Масив з рамкою (ітеративно):\")\n",
    "for row in arr_iterative:\n",
    "    print(row)\n",
    "print(\"Час виконання (ітеративно):\", time_iterative)\n"
   ]
  },
  {
   "cell_type": "code",
   "execution_count": 29,
   "id": "55395e8b",
   "metadata": {},
   "outputs": [
    {
     "name": "stdout",
     "output_type": "stream",
     "text": [
      "Введіть кількість рядків (p): 10\n",
      "Введіть кількість стовпчиків (l): 10\n",
      "Матриця (NumPy):\n",
      "[[0 1 0 1 0 1 0 1 0 1]\n",
      " [0 1 0 1 0 1 0 1 0 1]\n",
      " [0 1 0 1 0 1 0 1 0 1]\n",
      " [0 1 0 1 0 1 0 1 0 1]\n",
      " [0 1 0 1 0 1 0 1 0 1]\n",
      " [0 1 0 1 0 1 0 1 0 1]\n",
      " [0 1 0 1 0 1 0 1 0 1]\n",
      " [0 1 0 1 0 1 0 1 0 1]\n",
      " [0 1 0 1 0 1 0 1 0 1]\n",
      " [0 1 0 1 0 1 0 1 0 1]]\n",
      "Час виконання (NumPy): 3.910064697265625e-05\n"
     ]
    }
   ],
   "source": [
    "def numpy_approach_task15(p, l):\n",
    "    start_time = time.time()\n",
    "    arr = np.ones((p, l), dtype=int)\n",
    "    arr[:, ::2] = 0\n",
    "    end_time = time.time()\n",
    "    execution_time = end_time - start_time\n",
    "    return arr, execution_time\n",
    "\n",
    "p = int(input(\"Введіть кількість рядків (p): \"))\n",
    "l = int(input(\"Введіть кількість стовпчиків (l): \"))\n",
    "arr_numpy, time_numpy = numpy_approach_task15(p, l)\n",
    "print(\"Матриця (NumPy):\")\n",
    "print(arr_numpy)\n",
    "print(\"Час виконання (NumPy):\", time_numpy)"
   ]
  },
  {
   "cell_type": "code",
   "execution_count": 30,
   "id": "3cca4144",
   "metadata": {},
   "outputs": [
    {
     "name": "stdout",
     "output_type": "stream",
     "text": [
      "Введіть кількість рядків (p): 10\n",
      "Введіть кількість стовпчиків (l): 10\n",
      "Матриця (ітеративно):\n",
      "[1, 0, 1, 0, 1, 0, 1, 0, 1, 0]\n",
      "[1, 0, 1, 0, 1, 0, 1, 0, 1, 0]\n",
      "[1, 0, 1, 0, 1, 0, 1, 0, 1, 0]\n",
      "[1, 0, 1, 0, 1, 0, 1, 0, 1, 0]\n",
      "[1, 0, 1, 0, 1, 0, 1, 0, 1, 0]\n",
      "[1, 0, 1, 0, 1, 0, 1, 0, 1, 0]\n",
      "[1, 0, 1, 0, 1, 0, 1, 0, 1, 0]\n",
      "[1, 0, 1, 0, 1, 0, 1, 0, 1, 0]\n",
      "[1, 0, 1, 0, 1, 0, 1, 0, 1, 0]\n",
      "[1, 0, 1, 0, 1, 0, 1, 0, 1, 0]\n",
      "Час виконання (ітеративно): 1.5020370483398438e-05\n"
     ]
    }
   ],
   "source": [
    "def iterative_approach_task15(p, l):\n",
    "    start_time = time.time()\n",
    "    arr = [[1 if j % 2 == 0 else 0 for j in range(l)] for i in range(p)]\n",
    "    end_time = time.time()\n",
    "    execution_time = end_time - start_time\n",
    "    return arr, execution_time\n",
    "\n",
    "p = int(input(\"Введіть кількість рядків (p): \"))\n",
    "l = int(input(\"Введіть кількість стовпчиків (l): \"))\n",
    "arr_iterative, time_iterative = iterative_approach_task15(p, l)\n",
    "print(\"Матриця (ітеративно):\")\n",
    "for row in arr_iterative:\n",
    "    print(row)\n",
    "print(\"Час виконання (ітеративно):\", time_iterative)"
   ]
  },
  {
   "cell_type": "code",
   "execution_count": 32,
   "id": "83d63fa1",
   "metadata": {},
   "outputs": [
    {
     "name": "stdout",
     "output_type": "stream",
     "text": [
      "Введіть значення p: 3\n",
      "Вектор (NumPy): [ 0 -1  2]\n",
      "Час виконання (NumPy): 0.0001709461212158203\n"
     ]
    }
   ],
   "source": [
    "def numpy_approach_task17(p):\n",
    "    start_time = time.time()\n",
    "    vec = np.arange(p)\n",
    "    mask = (vec < p/2) | (vec > 3*p/4)\n",
    "    vec[mask] *= -1\n",
    "    end_time = time.time()\n",
    "    execution_time = end_time - start_time\n",
    "    return vec, execution_time\n",
    "\n",
    "p = int(input(\"Введіть значення p: \"))\n",
    "vec_numpy, time_numpy = numpy_approach_task17(p)\n",
    "print(\"Вектор (NumPy):\", vec_numpy)\n",
    "print(\"Час виконання (NumPy):\", time_numpy)"
   ]
  },
  {
   "cell_type": "code",
   "execution_count": 33,
   "id": "a02878df",
   "metadata": {},
   "outputs": [
    {
     "name": "stdout",
     "output_type": "stream",
     "text": [
      "Введіть значення p: 3\n",
      "Вектор (ітеративно): [0, -1, 2]\n",
      "Час виконання (ітеративно): 6.198883056640625e-06\n"
     ]
    }
   ],
   "source": [
    "def iterative_approach_task17(p):\n",
    "    start_time = time.time()\n",
    "    vec = list(range(p))\n",
    "    for i in range(p):\n",
    "        if vec[i] < p/2 or vec[i] > 3*p/4:\n",
    "            vec[i] *= -1\n",
    "    end_time = time.time()\n",
    "    execution_time = end_time - start_time\n",
    "    return vec, execution_time\n",
    "\n",
    "p = int(input(\"Введіть значення p: \"))\n",
    "vec_iterative, time_iterative = iterative_approach_task17(p)\n",
    "print(\"Вектор (ітеративно):\", vec_iterative)\n",
    "print(\"Час виконання (ітеративно):\", time_iterative)"
   ]
  },
  {
   "cell_type": "code",
   "execution_count": 34,
   "id": "0e798984",
   "metadata": {},
   "outputs": [
    {
     "name": "stdout",
     "output_type": "stream",
     "text": [
      "Введіть розмір вектора: 4\n",
      "Кількість унікальних чисел (NumPy): 4\n",
      "Час виконання (NumPy): 0.00032019615173339844\n"
     ]
    }
   ],
   "source": [
    "def numpy_approach_task18(size):\n",
    "    start_time = time.time()\n",
    "    vec = np.random.randint(0, 100, size=size)\n",
    "    unique_count = len(np.unique(vec))\n",
    "    end_time = time.time()\n",
    "    execution_time = end_time - start_time\n",
    "    return unique_count, execution_time\n",
    "\n",
    "size = int(input(\"Введіть розмір вектора: \"))\n",
    "unique_count_numpy, time_numpy = numpy_approach_task18(size)\n",
    "print(\"Кількість унікальних чисел (NumPy):\", unique_count_numpy)\n",
    "print(\"Час виконання (NumPy):\", time_numpy)"
   ]
  },
  {
   "cell_type": "code",
   "execution_count": 36,
   "id": "5ca29c81",
   "metadata": {},
   "outputs": [
    {
     "name": "stdout",
     "output_type": "stream",
     "text": [
      "Введіть розмір вектора: 3\n",
      "Кількість унікальних чисел (ітеративно): 3\n",
      "Час виконання (ітеративно): 4.696846008300781e-05\n"
     ]
    }
   ],
   "source": [
    "def iterative_approach_task18(size):\n",
    "    start_time = time.time()\n",
    "    vec = [random.randint(0, 99) for _ in range(size)]\n",
    "    unique_count = len(set(vec))\n",
    "    end_time = time.time()\n",
    "    execution_time = end_time - start_time\n",
    "    return unique_count, execution_time\n",
    "\n",
    "size = int(input(\"Введіть розмір вектора: \"))\n",
    "unique_count_iterative, time_iterative = iterative_approach_task18(size)\n",
    "print(\"Кількість унікальних чисел (ітеративно):\", unique_count_iterative)\n",
    "print(\"Час виконання (ітеративно):\", time_iterative)"
   ]
  }
 ],
 "metadata": {
  "kernelspec": {
   "display_name": "Python 3 (ipykernel)",
   "language": "python",
   "name": "python3"
  },
  "language_info": {
   "codemirror_mode": {
    "name": "ipython",
    "version": 3
   },
   "file_extension": ".py",
   "mimetype": "text/x-python",
   "name": "python",
   "nbconvert_exporter": "python",
   "pygments_lexer": "ipython3",
   "version": "3.11.5"
  }
 },
 "nbformat": 4,
 "nbformat_minor": 5
}
