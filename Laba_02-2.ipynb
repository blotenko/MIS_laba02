{
 "cells": [
  {
   "cell_type": "markdown",
   "id": "ea25bc07",
   "metadata": {},
   "source": [
    "Варіант 1\n",
    "1, 6, 7, 9,\n",
    "10, 11, 15,\n",
    "17, 18"
   ]
  },
  {
   "cell_type": "code",
   "execution_count": 22,
   "id": "d442309a",
   "metadata": {},
   "outputs": [],
   "source": [
    "import numpy as np\n",
    "import random\n",
    "# Task 1\n",
    "\n",
    "# 1\n",
    "def task_1(n):\n",
    "    a = np.array([x+1 for x in range(n)])\n",
    "    return np.diag(a)\n",
    "\n",
    "def task_1_py(n):\n",
    "    a = [\n",
    "        [i + 1 if i == j else 0 for i in range(n)]\n",
    "        for j in range(n)\n",
    "    ]\n",
    "    return a"
   ]
  },
  {
   "cell_type": "code",
   "execution_count": 2,
   "id": "0f2d20cf",
   "metadata": {},
   "outputs": [
    {
     "name": "stdout",
     "output_type": "stream",
     "text": [
      "21.2 µs ± 6.77 µs per loop (mean ± std. dev. of 7 runs, 100 loops each)\n"
     ]
    }
   ],
   "source": [
    "%timeit -n 100 task_1(100)"
   ]
  },
  {
   "cell_type": "code",
   "execution_count": 3,
   "id": "f9de73f1",
   "metadata": {},
   "outputs": [
    {
     "name": "stdout",
     "output_type": "stream",
     "text": [
      "501 µs ± 27.2 µs per loop (mean ± std. dev. of 7 runs, 100 loops each)\n"
     ]
    }
   ],
   "source": [
    "\n",
    "%timeit -n 100 task_1_py(100)"
   ]
  },
  {
   "cell_type": "code",
   "execution_count": 10,
   "id": "8d1eecce",
   "metadata": {},
   "outputs": [],
   "source": [
    "def task_6(a):\n",
    "    r = np.array(a)\n",
    "    r[r > 0] = -1\n",
    "    return r\n",
    "\n",
    "def task_6_py(a):\n",
    "    r = [-1 if i > 0 else 0 for i in a]\n",
    "    return r"
   ]
  },
  {
   "cell_type": "code",
   "execution_count": 11,
   "id": "3dd7f85e",
   "metadata": {},
   "outputs": [],
   "source": [
    "arr = [3, 4, 0, 9, 7, 0, 6, 0, 4, 0, 3]"
   ]
  },
  {
   "cell_type": "code",
   "execution_count": 12,
   "id": "57235b8f",
   "metadata": {},
   "outputs": [
    {
     "name": "stdout",
     "output_type": "stream",
     "text": [
      "3.82 µs ± 157 ns per loop (mean ± std. dev. of 7 runs, 100 loops each)\n"
     ]
    }
   ],
   "source": [
    "%timeit -n 100 task_6(arr)"
   ]
  },
  {
   "cell_type": "code",
   "execution_count": 13,
   "id": "79c4859e",
   "metadata": {},
   "outputs": [
    {
     "name": "stdout",
     "output_type": "stream",
     "text": [
      "902 ns ± 57.4 ns per loop (mean ± std. dev. of 7 runs, 100 loops each)\n"
     ]
    }
   ],
   "source": [
    "%timeit -n 100 task_6_py(arr)"
   ]
  },
  {
   "cell_type": "code",
   "execution_count": 14,
   "id": "239395e1",
   "metadata": {},
   "outputs": [],
   "source": [
    "def task_7(a):\n",
    "    r = np.array(a)\n",
    "    r[r == 0] = -1\n",
    "    return r\n",
    "\n",
    "def task_7_py(a):\n",
    "    r = [-1 if i == 0 else 0 for i in a]\n",
    "    return r\n"
   ]
  },
  {
   "cell_type": "code",
   "execution_count": 15,
   "id": "98889263",
   "metadata": {},
   "outputs": [],
   "source": [
    "arr = [3, 4, 0, 9, 7, 0, 6, 0, 4, 0, 3]\n"
   ]
  },
  {
   "cell_type": "code",
   "execution_count": 16,
   "id": "c5170b37",
   "metadata": {},
   "outputs": [
    {
     "name": "stdout",
     "output_type": "stream",
     "text": [
      "3.26 µs ± 354 ns per loop (mean ± std. dev. of 7 runs, 100 loops each)\n"
     ]
    }
   ],
   "source": [
    "%timeit -n 100 task_6(arr)"
   ]
  },
  {
   "cell_type": "code",
   "execution_count": 17,
   "id": "fcc79dbe",
   "metadata": {},
   "outputs": [
    {
     "name": "stdout",
     "output_type": "stream",
     "text": [
      "646 ns ± 15.9 ns per loop (mean ± std. dev. of 7 runs, 100 loops each)\n"
     ]
    }
   ],
   "source": [
    "%timeit -n 100 task_6_py(arr)"
   ]
  },
  {
   "cell_type": "code",
   "execution_count": 19,
   "id": "9c5f180e",
   "metadata": {},
   "outputs": [],
   "source": [
    "def task_9(n):\n",
    "    start_time = time.time()\n",
    "    arr = np.arange(n, -1, -1)\n",
    "    end_time = time.time()\n",
    "    execution_time = end_time - start_time\n",
    "    return arr, execution_time"
   ]
  },
  {
   "cell_type": "code",
   "execution_count": 23,
   "id": "48ecb94f",
   "metadata": {},
   "outputs": [],
   "source": [
    "import time"
   ]
  },
  {
   "cell_type": "code",
   "execution_count": 24,
   "id": "2d3cbec0",
   "metadata": {},
   "outputs": [
    {
     "name": "stdout",
     "output_type": "stream",
     "text": [
      "Масив (NumPy): [10  9  8  7  6  5  4  3  2  1  0]\n",
      "Час виконання (NumPy): 3.910064697265625e-05\n"
     ]
    }
   ],
   "source": [
    "arr_numpy, time_numpy = task_9(10)\n",
    "print(\"Масив (NumPy):\", arr_numpy)\n",
    "print(\"Час виконання (NumPy):\", time_numpy)"
   ]
  },
  {
   "cell_type": "code",
   "execution_count": 26,
   "id": "9e8ce049",
   "metadata": {},
   "outputs": [
    {
     "name": "stdout",
     "output_type": "stream",
     "text": [
      "Введіть число n: 10\n",
      "Масив (ітеративно): [10, 9, 8, 7, 6, 5, 4, 3, 2, 1, 0]\n",
      "Час виконання (ітеративно): 5.0067901611328125e-06\n"
     ]
    }
   ],
   "source": [
    "def task_9_2(n):\n",
    "    start_time = time.time()\n",
    "    arr = [i for i in range(n, -1, -1)]\n",
    "    end_time = time.time()\n",
    "    execution_time = end_time - start_time\n",
    "    return arr, execution_time\n",
    "\n",
    "n = int(input(\"Введіть число n: \"))\n",
    "arr_iterative, time_iterative = task_9_2(n)\n",
    "print(\"Масив (ітеративно):\", arr_iterative)\n",
    "print(\"Час виконання (ітеративно):\", time_iterative)"
   ]
  },
  {
   "cell_type": "code",
   "execution_count": 27,
   "id": "ec640680",
   "metadata": {},
   "outputs": [
    {
     "name": "stdout",
     "output_type": "stream",
     "text": [
      "Введіть число n: 10\n",
      "Масив з рамкою (NumPy):\n",
      "[[1 1 1 1 1 1 1 1 1 1]\n",
      " [1 0 0 0 0 0 0 0 0 1]\n",
      " [1 0 0 0 0 0 0 0 0 1]\n",
      " [1 0 0 0 0 0 0 0 0 1]\n",
      " [1 0 0 0 0 0 0 0 0 1]\n",
      " [1 0 0 0 0 0 0 0 0 1]\n",
      " [1 0 0 0 0 0 0 0 0 1]\n",
      " [1 0 0 0 0 0 0 0 0 1]\n",
      " [1 0 0 0 0 0 0 0 0 1]\n",
      " [1 1 1 1 1 1 1 1 1 1]]\n",
      "Час виконання (NumPy): 5.1021575927734375e-05\n"
     ]
    }
   ],
   "source": [
    "def numpy_approach_task11(n):\n",
    "    start_time = time.time()\n",
    "    arr = np.ones((n, n), dtype=int)\n",
    "    arr[1:-1, 1:-1] = 0\n",
    "    end_time = time.time()\n",
    "    execution_time = end_time - start_time\n",
    "    return arr, execution_time\n",
    "\n",
    "n = int(input(\"Введіть число n: \"))\n",
    "arr_numpy, time_numpy = numpy_approach_task11(n)\n",
    "print(\"Масив з рамкою (NumPy):\")\n",
    "print(arr_numpy)\n",
    "print(\"Час виконання (NumPy):\", time_numpy)"
   ]
  },
  {
   "cell_type": "code",
   "execution_count": 28,
   "id": "e36ba307",
   "metadata": {},
   "outputs": [
    {
     "name": "stdout",
     "output_type": "stream",
     "text": [
      "Введіть число n: 10\n",
      "Масив з рамкою (ітеративно):\n",
      "[1, 1, 1, 1, 1, 1, 1, 1, 1, 1]\n",
      "[1, 0, 0, 0, 0, 0, 0, 0, 0, 1]\n",
      "[1, 0, 0, 0, 0, 0, 0, 0, 0, 1]\n",
      "[1, 0, 0, 0, 0, 0, 0, 0, 0, 1]\n",
      "[1, 0, 0, 0, 0, 0, 0, 0, 0, 1]\n",
      "[1, 0, 0, 0, 0, 0, 0, 0, 0, 1]\n",
      "[1, 0, 0, 0, 0, 0, 0, 0, 0, 1]\n",
      "[1, 0, 0, 0, 0, 0, 0, 0, 0, 1]\n",
      "[1, 0, 0, 0, 0, 0, 0, 0, 0, 1]\n",
      "[1, 1, 1, 1, 1, 1, 1, 1, 1, 1]\n",
      "Час виконання (ітеративно): 2.2172927856445312e-05\n"
     ]
    }
   ],
   "source": [
    "import time\n",
    "\n",
    "def iterative_approach_task11(n):\n",
    "    start_time = time.time()\n",
    "    arr = [[1]*n for _ in range(n)]\n",
    "    for i in range(1, n-1):\n",
    "        for j in range(1, n-1):\n",
    "            arr[i][j] = 0\n",
    "    end_time = time.time()\n",
    "    execution_time = end_time - start_time\n",
    "    return arr, execution_time\n",
    "\n",
    "n = int(input(\"Введіть число n: \"))\n",
    "arr_iterative, time_iterative = iterative_approach_task11(n)\n",
    "print(\"Масив з рамкою (ітеративно):\")\n",
    "for row in arr_iterative:\n",
    "    print(row)\n",
    "print(\"Час виконання (ітеративно):\", time_iterative)\n"
   ]
  },
  {
   "cell_type": "code",
   "execution_count": 29,
   "id": "3e0174a4",
   "metadata": {},
   "outputs": [
    {
     "name": "stdout",
     "output_type": "stream",
     "text": [
      "Введіть кількість рядків (p): 10\n",
      "Введіть кількість стовпчиків (l): 10\n",
      "Матриця (NumPy):\n",
      "[[0 1 0 1 0 1 0 1 0 1]\n",
      " [0 1 0 1 0 1 0 1 0 1]\n",
      " [0 1 0 1 0 1 0 1 0 1]\n",
      " [0 1 0 1 0 1 0 1 0 1]\n",
      " [0 1 0 1 0 1 0 1 0 1]\n",
      " [0 1 0 1 0 1 0 1 0 1]\n",
      " [0 1 0 1 0 1 0 1 0 1]\n",
      " [0 1 0 1 0 1 0 1 0 1]\n",
      " [0 1 0 1 0 1 0 1 0 1]\n",
      " [0 1 0 1 0 1 0 1 0 1]]\n",
      "Час виконання (NumPy): 3.910064697265625e-05\n"
     ]
    }
   ],
   "source": [
    "def numpy_approach_task15(p, l):\n",
    "    start_time = time.time()\n",
    "    arr = np.ones((p, l), dtype=int)\n",
    "    arr[:, ::2] = 0\n",
    "    end_time = time.time()\n",
    "    execution_time = end_time - start_time\n",
    "    return arr, execution_time\n",
    "\n",
    "p = int(input(\"Введіть кількість рядків (p): \"))\n",
    "l = int(input(\"Введіть кількість стовпчиків (l): \"))\n",
    "arr_numpy, time_numpy = numpy_approach_task15(p, l)\n",
    "print(\"Матриця (NumPy):\")\n",
    "print(arr_numpy)\n",
    "print(\"Час виконання (NumPy):\", time_numpy)"
   ]
  },
  {
   "cell_type": "code",
   "execution_count": 30,
   "id": "dfda535a",
   "metadata": {},
   "outputs": [
    {
     "name": "stdout",
     "output_type": "stream",
     "text": [
      "Введіть кількість рядків (p): 10\n",
      "Введіть кількість стовпчиків (l): 10\n",
      "Матриця (ітеративно):\n",
      "[1, 0, 1, 0, 1, 0, 1, 0, 1, 0]\n",
      "[1, 0, 1, 0, 1, 0, 1, 0, 1, 0]\n",
      "[1, 0, 1, 0, 1, 0, 1, 0, 1, 0]\n",
      "[1, 0, 1, 0, 1, 0, 1, 0, 1, 0]\n",
      "[1, 0, 1, 0, 1, 0, 1, 0, 1, 0]\n",
      "[1, 0, 1, 0, 1, 0, 1, 0, 1, 0]\n",
      "[1, 0, 1, 0, 1, 0, 1, 0, 1, 0]\n",
      "[1, 0, 1, 0, 1, 0, 1, 0, 1, 0]\n",
      "[1, 0, 1, 0, 1, 0, 1, 0, 1, 0]\n",
      "[1, 0, 1, 0, 1, 0, 1, 0, 1, 0]\n",
      "Час виконання (ітеративно): 1.5020370483398438e-05\n"
     ]
    }
   ],
   "source": [
    "def iterative_approach_task15(p, l):\n",
    "    start_time = time.time()\n",
    "    arr = [[1 if j % 2 == 0 else 0 for j in range(l)] for i in range(p)]\n",
    "    end_time = time.time()\n",
    "    execution_time = end_time - start_time\n",
    "    return arr, execution_time\n",
    "\n",
    "p = int(input(\"Введіть кількість рядків (p): \"))\n",
    "l = int(input(\"Введіть кількість стовпчиків (l): \"))\n",
    "arr_iterative, time_iterative = iterative_approach_task15(p, l)\n",
    "print(\"Матриця (ітеративно):\")\n",
    "for row in arr_iterative:\n",
    "    print(row)\n",
    "print(\"Час виконання (ітеративно):\", time_iterative)"
   ]
  },
  {
   "cell_type": "code",
   "execution_count": 32,
   "id": "ab60d781",
   "metadata": {},
   "outputs": [
    {
     "name": "stdout",
     "output_type": "stream",
     "text": [
      "Введіть значення p: 3\n",
      "Вектор (NumPy): [ 0 -1  2]\n",
      "Час виконання (NumPy): 0.0001709461212158203\n"
     ]
    }
   ],
   "source": [
    "def numpy_approach_task17(p):\n",
    "    start_time = time.time()\n",
    "    vec = np.arange(p)\n",
    "    mask = (vec < p/2) | (vec > 3*p/4)\n",
    "    vec[mask] *= -1\n",
    "    end_time = time.time()\n",
    "    execution_time = end_time - start_time\n",
    "    return vec, execution_time\n",
    "\n",
    "p = int(input(\"Введіть значення p: \"))\n",
    "vec_numpy, time_numpy = numpy_approach_task17(p)\n",
    "print(\"Вектор (NumPy):\", vec_numpy)\n",
    "print(\"Час виконання (NumPy):\", time_numpy)"
   ]
  },
  {
   "cell_type": "code",
   "execution_count": 33,
   "id": "5ee8bc9e",
   "metadata": {},
   "outputs": [
    {
     "name": "stdout",
     "output_type": "stream",
     "text": [
      "Введіть значення p: 3\n",
      "Вектор (ітеративно): [0, -1, 2]\n",
      "Час виконання (ітеративно): 6.198883056640625e-06\n"
     ]
    }
   ],
   "source": [
    "def iterative_approach_task17(p):\n",
    "    start_time = time.time()\n",
    "    vec = list(range(p))\n",
    "    for i in range(p):\n",
    "        if vec[i] < p/2 or vec[i] > 3*p/4:\n",
    "            vec[i] *= -1\n",
    "    end_time = time.time()\n",
    "    execution_time = end_time - start_time\n",
    "    return vec, execution_time\n",
    "\n",
    "p = int(input(\"Введіть значення p: \"))\n",
    "vec_iterative, time_iterative = iterative_approach_task17(p)\n",
    "print(\"Вектор (ітеративно):\", vec_iterative)\n",
    "print(\"Час виконання (ітеративно):\", time_iterative)"
   ]
  },
  {
   "cell_type": "code",
   "execution_count": 34,
   "id": "8c99adb2",
   "metadata": {},
   "outputs": [
    {
     "name": "stdout",
     "output_type": "stream",
     "text": [
      "Введіть розмір вектора: 4\n",
      "Кількість унікальних чисел (NumPy): 4\n",
      "Час виконання (NumPy): 0.00032019615173339844\n"
     ]
    }
   ],
   "source": [
    "def numpy_approach_task18(size):\n",
    "    start_time = time.time()\n",
    "    vec = np.random.randint(0, 100, size=size)\n",
    "    unique_count = len(np.unique(vec))\n",
    "    end_time = time.time()\n",
    "    execution_time = end_time - start_time\n",
    "    return unique_count, execution_time\n",
    "\n",
    "size = int(input(\"Введіть розмір вектора: \"))\n",
    "unique_count_numpy, time_numpy = numpy_approach_task18(size)\n",
    "print(\"Кількість унікальних чисел (NumPy):\", unique_count_numpy)\n",
    "print(\"Час виконання (NumPy):\", time_numpy)"
   ]
  },
  {
   "cell_type": "code",
   "execution_count": 36,
   "id": "9d4743aa",
   "metadata": {},
   "outputs": [
    {
     "name": "stdout",
     "output_type": "stream",
     "text": [
      "Введіть розмір вектора: 3\n",
      "Кількість унікальних чисел (ітеративно): 3\n",
      "Час виконання (ітеративно): 4.696846008300781e-05\n"
     ]
    }
   ],
   "source": [
    "def iterative_approach_task18(size):\n",
    "    start_time = time.time()\n",
    "    vec = [random.randint(0, 99) for _ in range(size)]\n",
    "    unique_count = len(set(vec))\n",
    "    end_time = time.time()\n",
    "    execution_time = end_time - start_time\n",
    "    return unique_count, execution_time\n",
    "\n",
    "size = int(input(\"Введіть розмір вектора: \"))\n",
    "unique_count_iterative, time_iterative = iterative_approach_task18(size)\n",
    "print(\"Кількість унікальних чисел (ітеративно):\", unique_count_iterative)\n",
    "print(\"Час виконання (ітеративно):\", time_iterative)"
   ]
  },
  {
   "cell_type": "code",
   "execution_count": 37,
   "id": "9594788a",
   "metadata": {},
   "outputs": [],
   "source": [
    "def solve(matrix):\n",
    "    b = matrix[:, -1]\n",
    "    det = matrix[:, :-1]\n",
    "    dets = []\n",
    "    for i in range(matrix.shape[0]):\n",
    "        det_i = det.copy()\n",
    "        det_i[:, i] = b\n",
    "        dets.append(det_i)\n",
    "    det = np.linalg.det(det)\n",
    "    dets = [np.linalg.det(d) for d in dets]\n",
    "    solution = [d / det for d in dets]\n",
    "    return np.array(solution)\n",
    "\n",
    "matrix = [\n",
    "    [1, 1, 2, 3, 1],\n",
    "    [3, -1, -1, -2, -4],\n",
    "    [2, -3, -1, -1, -6],\n",
    "    [1, 2, 3, -1, 4]\n",
    "]\n",
    "matrix = np.array(matrix)"
   ]
  },
  {
   "cell_type": "code",
   "execution_count": 38,
   "id": "5fa9f32f",
   "metadata": {},
   "outputs": [
    {
     "name": "stdout",
     "output_type": "stream",
     "text": [
      "True\n"
     ]
    },
    {
     "data": {
      "text/plain": [
       "array([[ 1.85185185e-01,  3.33333333e-01, -7.40740741e-02,\n",
       "        -3.70370370e-02],\n",
       "       [ 3.70370370e-02,  3.33333333e-01, -4.81481481e-01,\n",
       "        -7.40740741e-02],\n",
       "       [ 9.59451997e-18, -3.33333333e-01,  3.33333333e-01,\n",
       "         3.33333333e-01],\n",
       "       [ 2.59259259e-01,  0.00000000e+00, -3.70370370e-02,\n",
       "        -1.85185185e-01]])"
      ]
     },
     "execution_count": 38,
     "metadata": {},
     "output_type": "execute_result"
    }
   ],
   "source": [
    "print(np.allclose(solve(matrix), np.linalg.solve(matrix[:, :-1], matrix[:, -1])))\n",
    "inv = np.linalg.inv(matrix[:, :-1])\n",
    "inv"
   ]
  },
  {
   "cell_type": "code",
   "execution_count": 62,
   "id": "ed7c255f",
   "metadata": {},
   "outputs": [],
   "source": [
    "def add_mat(mat1, mat2):\n",
    "    result = []\n",
    "    for i in range(len(mat1)):\n",
    "        row = []\n",
    "        for j in range(len(mat1[0])):\n",
    "            row.append(mat1[i][j] + mat2[i][j])\n",
    "        result.append(row)\n",
    "\n",
    "    return result\n",
    "\n",
    "def mult_mat(mat1, mat2):\n",
    "    result = []\n",
    "    for i in range(len(mat1)):\n",
    "        row = []\n",
    "        for j in range(len(mat2[0])):\n",
    "            sum = 0\n",
    "            for k in range(len(mat2)):\n",
    "                sum += mat1[i][k] * mat2[k][j]\n",
    "            row.append(sum)\n",
    "        result.append(row)\n",
    "\n",
    "    return result\n",
    "\n",
    "def mult_mat_const(mat, const):\n",
    "    return [[i * const for i in j] for j in mat]\n",
    "\n",
    "def solve_np(a, b):\n",
    "    return  np.matmul(2 * (a + b), (2 * b - a))\n",
    "\n",
    "def solve_py(a, b):\n",
    "    return mult_mat_const(mult_mat(add_mat(a, b), add_mat(mult_mat_const(b,2), mult_mat_const(a, -1))),2)"
   ]
  },
  {
   "cell_type": "code",
   "execution_count": 63,
   "id": "81f03be1",
   "metadata": {},
   "outputs": [
    {
     "data": {
      "text/plain": [
       "True"
      ]
     },
     "execution_count": 63,
     "metadata": {},
     "output_type": "execute_result"
    }
   ],
   "source": [
    "A = [\n",
    "    [2, 3, -1],\n",
    "    [4, 5, 2],\n",
    "    [-1, 0, 7]\n",
    "]\n",
    "B = [\n",
    "    [-1, 0, 5],\n",
    "    [0, 1, 3],\n",
    "    [2, -2, 4]\n",
    "]\n",
    "A_np, B_np = np.array(A), np.array(B)\n",
    "np.allclose(solve_py(A, B), solve_np(A_np, B_np))"
   ]
  },
  {
   "cell_type": "code",
   "execution_count": 64,
   "id": "dc81f2a8",
   "metadata": {},
   "outputs": [
    {
     "data": {
      "text/plain": [
       "[[8, -56, 54], [-30, -100, 146], [118, -82, 28]]"
      ]
     },
     "execution_count": 64,
     "metadata": {},
     "output_type": "execute_result"
    }
   ],
   "source": [
    "solve_py(A, B)"
   ]
  },
  {
   "cell_type": "code",
   "execution_count": 65,
   "id": "e1c00679",
   "metadata": {
    "scrolled": true
   },
   "outputs": [
    {
     "data": {
      "text/plain": [
       "array([[   8,  -56,   54],\n",
       "       [ -30, -100,  146],\n",
       "       [ 118,  -82,   28]])"
      ]
     },
     "execution_count": 65,
     "metadata": {},
     "output_type": "execute_result"
    }
   ],
   "source": [
    "solve_np(A_np, B_np)"
   ]
  },
  {
   "cell_type": "code",
   "execution_count": 66,
   "id": "7c260d3f",
   "metadata": {},
   "outputs": [
    {
     "name": "stdout",
     "output_type": "stream",
     "text": [
      "The slowest run took 4.05 times longer than the fastest. This could mean that an intermediate result is being cached.\n",
      "9.05 µs ± 4.28 µs per loop (mean ± std. dev. of 7 runs, 100 loops each)\n",
      "16.2 µs ± 3.07 µs per loop (mean ± std. dev. of 7 runs, 100 loops each)\n"
     ]
    }
   ],
   "source": [
    "%timeit -n 100 solve_np(A_np, B_np)\n",
    "%timeit -n 100 solve_py(A, B)"
   ]
  },
  {
   "cell_type": "code",
   "execution_count": null,
   "id": "0ff557db",
   "metadata": {},
   "outputs": [],
   "source": []
  }
 ],
 "metadata": {
  "kernelspec": {
   "display_name": "Python 3 (ipykernel)",
   "language": "python",
   "name": "python3"
  },
  "language_info": {
   "codemirror_mode": {
    "name": "ipython",
    "version": 3
   },
   "file_extension": ".py",
   "mimetype": "text/x-python",
   "name": "python",
   "nbconvert_exporter": "python",
   "pygments_lexer": "ipython3",
   "version": "3.11.5"
  }
 },
 "nbformat": 4,
 "nbformat_minor": 5
}
